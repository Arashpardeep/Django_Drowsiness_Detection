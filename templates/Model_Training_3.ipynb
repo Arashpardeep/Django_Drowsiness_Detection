{
 "cells": [
  {
   "cell_type": "code",
   "execution_count": 2,
   "metadata": {},
   "outputs": [],
   "source": [
    "import tensorflow as tf\n",
    "from tensorflow.keras.applications import VGG16\n",
    "from tensorflow.keras.models import Model\n",
    "from tensorflow.keras.layers import Dropout, Input, Flatten, Dense, MaxPooling2D\n",
    "from tensorflow.keras.preprocessing.image import ImageDataGenerator"
   ]
  },
  {
   "cell_type": "code",
   "execution_count": 3,
   "metadata": {},
   "outputs": [
    {
     "name": "stdout",
     "output_type": "stream",
     "text": [
      "WARNING:tensorflow:From C:\\Users\\Arshdeep\\AppData\\Local\\Temp\\ipykernel_14096\\337460670.py:1: is_gpu_available (from tensorflow.python.framework.test_util) is deprecated and will be removed in a future version.\n",
      "Instructions for updating:\n",
      "Use `tf.config.list_physical_devices('GPU')` instead.\n"
     ]
    },
    {
     "data": {
      "text/plain": [
       "False"
      ]
     },
     "execution_count": 3,
     "metadata": {},
     "output_type": "execute_result"
    }
   ],
   "source": [
    "tf.test.is_gpu_available()"
   ]
  },
  {
   "cell_type": "code",
   "execution_count": 4,
   "metadata": {},
   "outputs": [],
   "source": [
    "batchsize = 8"
   ]
  },
  {
   "cell_type": "code",
   "execution_count": 5,
   "metadata": {},
   "outputs": [],
   "source": [
    "train_data_gen = ImageDataGenerator(\n",
    "    rescale = 1./255, \n",
    "    rotation_range = 0.2, \n",
    "    shear_range = 0.2, \n",
    "    zoom_range = 0.2, \n",
    "    width_shift_range = 0.2, \n",
    "    height_shift_range = 0.2,\n",
    "    validation_split = 0.2\n",
    ")"
   ]
  },
  {
   "cell_type": "code",
   "execution_count": 6,
   "metadata": {},
   "outputs": [
    {
     "name": "stdout",
     "output_type": "stream",
     "text": [
      "Found 64687 images belonging to 2 classes.\n",
      "Found 16171 images belonging to 2 classes.\n"
     ]
    }
   ],
   "source": [
    "train_data = train_data_gen.flow_from_directory(\n",
    "    r'C:\\\\Capstone_django-version\\\\Drowsiness_Detection_System\\\\templates\\\\Prepared_Data\\\\train', \n",
    "    target_size = (80, 80), \n",
    "    batch_size = batchsize, \n",
    "    class_mode = 'categorical',\n",
    "    subset = 'training'\n",
    ")\n",
    "\n",
    "validation_data = train_data_gen.flow_from_directory(\n",
    "    r'C:\\\\Capstone_django-version\\\\Drowsiness_Detection_System\\\\templates\\\\Prepared_Data\\\\train', \n",
    "    target_size = (80, 80), \n",
    "    batch_size = batchsize, \n",
    "    class_mode = 'categorical',\n",
    "    subset = 'validation'\n",
    ")"
   ]
  },
  {
   "cell_type": "code",
   "execution_count": 7,
   "metadata": {},
   "outputs": [
    {
     "name": "stdout",
     "output_type": "stream",
     "text": [
      "Found 4040 images belonging to 2 classes.\n"
     ]
    }
   ],
   "source": [
    "test_data_gen = ImageDataGenerator(rescale = 1./255)\n",
    "\n",
    "test_data = test_data_gen.flow_from_directory(\n",
    "    r'C:\\\\Capstone_django-version\\\\Drowsiness_Detection_System\\\\templates\\\\Prepared_Data\\\\test', \n",
    "    target_size = (80, 80), \n",
    "    batch_size = batchsize, \n",
    "    class_mode = 'categorical',\n",
    ")"
   ]
  },
  {
   "cell_type": "code",
   "execution_count": 8,
   "metadata": {},
   "outputs": [],
   "source": [
    "base_model = VGG16(\n",
    "    include_top = False,\n",
    "    weights = 'imagenet',\n",
    "    input_tensor = Input(shape = (80, 80, 3))\n",
    ")\n",
    "\n",
    "had_model = base_model.output"
   ]
  },
  {
   "cell_type": "code",
   "execution_count": 9,
   "metadata": {},
   "outputs": [
    {
     "name": "stdout",
     "output_type": "stream",
     "text": [
      "Model: \"vgg16\"\n",
      "_________________________________________________________________\n",
      " Layer (type)                Output Shape              Param #   \n",
      "=================================================================\n",
      " input_1 (InputLayer)        [(None, 80, 80, 3)]       0         \n",
      "                                                                 \n",
      " block1_conv1 (Conv2D)       (None, 80, 80, 64)        1792      \n",
      "                                                                 \n",
      " block1_conv2 (Conv2D)       (None, 80, 80, 64)        36928     \n",
      "                                                                 \n",
      " block1_pool (MaxPooling2D)  (None, 40, 40, 64)        0         \n",
      "                                                                 \n",
      " block2_conv1 (Conv2D)       (None, 40, 40, 128)       73856     \n",
      "                                                                 \n",
      " block2_conv2 (Conv2D)       (None, 40, 40, 128)       147584    \n",
      "                                                                 \n",
      " block2_pool (MaxPooling2D)  (None, 20, 20, 128)       0         \n",
      "                                                                 \n",
      " block3_conv1 (Conv2D)       (None, 20, 20, 256)       295168    \n",
      "                                                                 \n",
      " block3_conv2 (Conv2D)       (None, 20, 20, 256)       590080    \n",
      "                                                                 \n",
      " block3_conv3 (Conv2D)       (None, 20, 20, 256)       590080    \n",
      "                                                                 \n",
      " block3_pool (MaxPooling2D)  (None, 10, 10, 256)       0         \n",
      "                                                                 \n",
      " block4_conv1 (Conv2D)       (None, 10, 10, 512)       1180160   \n",
      "                                                                 \n",
      " block4_conv2 (Conv2D)       (None, 10, 10, 512)       2359808   \n",
      "                                                                 \n",
      " block4_conv3 (Conv2D)       (None, 10, 10, 512)       2359808   \n",
      "                                                                 \n",
      " block4_pool (MaxPooling2D)  (None, 5, 5, 512)         0         \n",
      "                                                                 \n",
      " block5_conv1 (Conv2D)       (None, 5, 5, 512)         2359808   \n",
      "                                                                 \n",
      " block5_conv2 (Conv2D)       (None, 5, 5, 512)         2359808   \n",
      "                                                                 \n",
      " block5_conv3 (Conv2D)       (None, 5, 5, 512)         2359808   \n",
      "                                                                 \n",
      " block5_pool (MaxPooling2D)  (None, 2, 2, 512)         0         \n",
      "                                                                 \n",
      "=================================================================\n",
      "Total params: 14,714,688\n",
      "Trainable params: 14,714,688\n",
      "Non-trainable params: 0\n",
      "_________________________________________________________________\n"
     ]
    }
   ],
   "source": [
    "base_model.summary()"
   ]
  },
  {
   "cell_type": "code",
   "execution_count": 10,
   "metadata": {},
   "outputs": [],
   "source": [
    "had_model = Flatten()(had_model)\n",
    "had_model = Dense(64, activation = 'relu')(had_model)\n",
    "had_model = Dropout(0.5)(had_model)\n",
    "had_model = Dense(2, activation = 'softmax')(had_model)\n",
    "\n",
    "model = Model(inputs = base_model.input, outputs = had_model)\n",
    "for layer in base_model.layers:\n",
    "    layer.trainable = False"
   ]
  },
  {
   "cell_type": "code",
   "execution_count": 11,
   "metadata": {},
   "outputs": [
    {
     "name": "stdout",
     "output_type": "stream",
     "text": [
      "Model: \"model\"\n",
      "_________________________________________________________________\n",
      " Layer (type)                Output Shape              Param #   \n",
      "=================================================================\n",
      " input_1 (InputLayer)        [(None, 80, 80, 3)]       0         \n",
      "                                                                 \n",
      " block1_conv1 (Conv2D)       (None, 80, 80, 64)        1792      \n",
      "                                                                 \n",
      " block1_conv2 (Conv2D)       (None, 80, 80, 64)        36928     \n",
      "                                                                 \n",
      " block1_pool (MaxPooling2D)  (None, 40, 40, 64)        0         \n",
      "                                                                 \n",
      " block2_conv1 (Conv2D)       (None, 40, 40, 128)       73856     \n",
      "                                                                 \n",
      " block2_conv2 (Conv2D)       (None, 40, 40, 128)       147584    \n",
      "                                                                 \n",
      " block2_pool (MaxPooling2D)  (None, 20, 20, 128)       0         \n",
      "                                                                 \n",
      " block3_conv1 (Conv2D)       (None, 20, 20, 256)       295168    \n",
      "                                                                 \n",
      " block3_conv2 (Conv2D)       (None, 20, 20, 256)       590080    \n",
      "                                                                 \n",
      " block3_conv3 (Conv2D)       (None, 20, 20, 256)       590080    \n",
      "                                                                 \n",
      " block3_pool (MaxPooling2D)  (None, 10, 10, 256)       0         \n",
      "                                                                 \n",
      " block4_conv1 (Conv2D)       (None, 10, 10, 512)       1180160   \n",
      "                                                                 \n",
      " block4_conv2 (Conv2D)       (None, 10, 10, 512)       2359808   \n",
      "                                                                 \n",
      " block4_conv3 (Conv2D)       (None, 10, 10, 512)       2359808   \n",
      "                                                                 \n",
      " block4_pool (MaxPooling2D)  (None, 5, 5, 512)         0         \n",
      "                                                                 \n",
      " block5_conv1 (Conv2D)       (None, 5, 5, 512)         2359808   \n",
      "                                                                 \n",
      " block5_conv2 (Conv2D)       (None, 5, 5, 512)         2359808   \n",
      "                                                                 \n",
      " block5_conv3 (Conv2D)       (None, 5, 5, 512)         2359808   \n",
      "                                                                 \n",
      " block5_pool (MaxPooling2D)  (None, 2, 2, 512)         0         \n",
      "                                                                 \n",
      " flatten (Flatten)           (None, 2048)              0         \n",
      "                                                                 \n",
      " dense (Dense)               (None, 64)                131136    \n",
      "                                                                 \n",
      " dropout (Dropout)           (None, 64)                0         \n",
      "                                                                 \n",
      " dense_1 (Dense)             (None, 2)                 130       \n",
      "                                                                 \n",
      "=================================================================\n",
      "Total params: 14,845,954\n",
      "Trainable params: 131,266\n",
      "Non-trainable params: 14,714,688\n",
      "_________________________________________________________________\n"
     ]
    }
   ],
   "source": [
    "model.summary()"
   ]
  },
  {
   "cell_type": "code",
   "execution_count": 12,
   "metadata": {},
   "outputs": [],
   "source": [
    "from tensorflow.keras.callbacks import ModelCheckpoint, EarlyStopping, ReduceLROnPlateau"
   ]
  },
  {
   "cell_type": "code",
   "execution_count": 13,
   "metadata": {},
   "outputs": [],
   "source": [
    "checkpoint = ModelCheckpoint(r'C:\\\\Capstone_django-version\\\\Drowsiness_Detection_System\\\\templates\\\\models\\\\model.h5', monitor = 'val_loss', save_best_only = True, verbose = 3)\n",
    "# verbose is like the font-size\n",
    "# save_the_best takes that model only whose validation loss is very less by monitoring the val_loss\n",
    "\n",
    "earlystop = EarlyStopping(monitor = 'val_loss', patience = 7, verbose = 3, restore_best_weights = True)\n",
    "# We use the EarlyStopping if we are waiting for long but either the accuracy is not increasing or validation loss is not decreasing than also.\n",
    "# patience = 7, means it will have the patience upto 7 epochs, if the accuracy is not increasing or the validation loss is not decreasing, the model will stop early without completing all the epochs.\n",
    "\n",
    "learning_rate = ReduceLROnPlateau(monitor = 'val_loss', patience = 3, verbose = 3)\n",
    "\n",
    "callbacks = [checkpoint, earlystop, learning_rate]"
   ]
  },
  {
   "cell_type": "code",
   "execution_count": 14,
   "metadata": {},
   "outputs": [
    {
     "name": "stderr",
     "output_type": "stream",
     "text": [
      "C:\\Users\\Arshdeep\\AppData\\Local\\Temp\\ipykernel_14096\\789821392.py:3: UserWarning: `Model.fit_generator` is deprecated and will be removed in a future version. Please use `Model.fit`, which supports generators.\n",
      "  model.fit_generator(\n"
     ]
    },
    {
     "name": "stdout",
     "output_type": "stream",
     "text": [
      "Epoch 1/16\n",
      "8085/8085 [==============================] - ETA: 0s - loss: 0.3410 - accuracy: 0.8482\n",
      "Epoch 1: val_loss improved from inf to 0.60952, saving model to C:\\\\Capstone_django-version\\\\Drowsiness_Detection_System\\\\templates\\\\models\\model.h5\n",
      "8085/8085 [==============================] - 3930s 486ms/step - loss: 0.3410 - accuracy: 0.8482 - val_loss: 0.6095 - val_accuracy: 0.6316 - lr: 0.0010\n",
      "Epoch 2/16\n",
      "8085/8085 [==============================] - ETA: 0s - loss: 0.2802 - accuracy: 0.8829\n",
      "Epoch 2: val_loss improved from 0.60952 to 0.41585, saving model to C:\\\\Capstone_django-version\\\\Drowsiness_Detection_System\\\\templates\\\\models\\model.h5\n",
      "8085/8085 [==============================] - 3387s 419ms/step - loss: 0.2802 - accuracy: 0.8829 - val_loss: 0.4158 - val_accuracy: 0.8023 - lr: 0.0010\n",
      "Epoch 3/16\n",
      "8085/8085 [==============================] - ETA: 0s - loss: 0.2650 - accuracy: 0.8904\n",
      "Epoch 3: val_loss did not improve from 0.41585\n",
      "8085/8085 [==============================] - 3162s 391ms/step - loss: 0.2650 - accuracy: 0.8904 - val_loss: 0.4780 - val_accuracy: 0.7755 - lr: 0.0010\n",
      "Epoch 4/16\n",
      "8085/8085 [==============================] - ETA: 0s - loss: 0.2483 - accuracy: 0.8976\n",
      "Epoch 4: val_loss did not improve from 0.41585\n",
      "8085/8085 [==============================] - 3167s 392ms/step - loss: 0.2483 - accuracy: 0.8976 - val_loss: 0.5292 - val_accuracy: 0.7205 - lr: 0.0010\n",
      "Epoch 5/16\n",
      "8085/8085 [==============================] - ETA: 0s - loss: 0.2445 - accuracy: 0.9009\n",
      "Epoch 5: val_loss did not improve from 0.41585\n",
      "\n",
      "Epoch 5: ReduceLROnPlateau reducing learning rate to 0.00010000000474974513.\n",
      "8085/8085 [==============================] - 3255s 403ms/step - loss: 0.2445 - accuracy: 0.9009 - val_loss: 0.5412 - val_accuracy: 0.7215 - lr: 0.0010\n",
      "Epoch 6/16\n",
      "8085/8085 [==============================] - ETA: 0s - loss: 0.2129 - accuracy: 0.9161\n",
      "Epoch 6: val_loss did not improve from 0.41585\n",
      "8085/8085 [==============================] - 3145s 389ms/step - loss: 0.2129 - accuracy: 0.9161 - val_loss: 0.4438 - val_accuracy: 0.7662 - lr: 1.0000e-04\n",
      "Epoch 7/16\n",
      "8085/8085 [==============================] - ETA: 0s - loss: 0.2107 - accuracy: 0.9180\n",
      "Epoch 7: val_loss did not improve from 0.41585\n",
      "8085/8085 [==============================] - 3150s 390ms/step - loss: 0.2107 - accuracy: 0.9180 - val_loss: 0.5180 - val_accuracy: 0.7300 - lr: 1.0000e-04\n",
      "Epoch 8/16\n",
      "8085/8085 [==============================] - ETA: 0s - loss: 0.2068 - accuracy: 0.9204\n",
      "Epoch 8: val_loss did not improve from 0.41585\n",
      "\n",
      "Epoch 8: ReduceLROnPlateau reducing learning rate to 1.0000000474974514e-05.\n",
      "8085/8085 [==============================] - 3145s 389ms/step - loss: 0.2068 - accuracy: 0.9204 - val_loss: 0.5104 - val_accuracy: 0.7466 - lr: 1.0000e-04\n",
      "Epoch 9/16\n",
      "8085/8085 [==============================] - ETA: 0s - loss: 0.2004 - accuracy: 0.9233\n",
      "Epoch 9: val_loss did not improve from 0.41585\n",
      "Restoring model weights from the end of the best epoch: 2.\n",
      "8085/8085 [==============================] - 3740s 463ms/step - loss: 0.2004 - accuracy: 0.9233 - val_loss: 0.4906 - val_accuracy: 0.7469 - lr: 1.0000e-05\n",
      "Epoch 9: early stopping\n"
     ]
    },
    {
     "data": {
      "text/plain": [
       "<keras.callbacks.History at 0x27a77cd9c10>"
      ]
     },
     "execution_count": 14,
     "metadata": {},
     "output_type": "execute_result"
    }
   ],
   "source": [
    "model.compile(optimizer = 'Adam', loss = 'categorical_crossentropy', metrics = ['accuracy'])\n",
    "\n",
    "model.fit_generator(\n",
    "    train_data,\n",
    "    steps_per_epoch = train_data.samples//batchsize,\n",
    "    validation_data = validation_data,\n",
    "    validation_steps = validation_data.samples//batchsize,\n",
    "    callbacks = callbacks,\n",
    "    epochs = 16\n",
    ")"
   ]
  },
  {
   "cell_type": "code",
   "execution_count": 16,
   "metadata": {},
   "outputs": [
    {
     "name": "stderr",
     "output_type": "stream",
     "text": [
      "C:\\Users\\Arshdeep\\AppData\\Local\\Temp\\ipykernel_14096\\4054689642.py:1: UserWarning: `Model.evaluate_generator` is deprecated and will be removed in a future version. Please use `Model.evaluate`, which supports generators.\n",
      "  train_loss, train_accuracy = model.evaluate_generator(train_data)\n"
     ]
    },
    {
     "name": "stdout",
     "output_type": "stream",
     "text": [
      "0.9003199934959412\n",
      "0.23008956015110016\n"
     ]
    }
   ],
   "source": [
    "train_loss, train_accuracy = model.evaluate_generator(train_data)\n",
    "print(train_accuracy)\n",
    "print(train_loss)"
   ]
  },
  {
   "cell_type": "code",
   "execution_count": 17,
   "metadata": {},
   "outputs": [
    {
     "name": "stderr",
     "output_type": "stream",
     "text": [
      "C:\\Users\\Arshdeep\\AppData\\Local\\Temp\\ipykernel_14096\\2308148602.py:1: UserWarning: `Model.evaluate_generator` is deprecated and will be removed in a future version. Please use `Model.evaluate`, which supports generators.\n",
      "  validation_loss, validation_accuracy = model.evaluate_generator(validation_data)\n"
     ]
    },
    {
     "name": "stdout",
     "output_type": "stream",
     "text": [
      "0.7999505400657654\n",
      "0.41610246896743774\n"
     ]
    }
   ],
   "source": [
    "validation_loss, validation_accuracy = model.evaluate_generator(validation_data)\n",
    "print(validation_accuracy)\n",
    "print(validation_loss)"
   ]
  },
  {
   "cell_type": "code",
   "execution_count": 18,
   "metadata": {},
   "outputs": [
    {
     "name": "stderr",
     "output_type": "stream",
     "text": [
      "C:\\Users\\Arshdeep\\AppData\\Local\\Temp\\ipykernel_14096\\3362072667.py:1: UserWarning: `Model.evaluate_generator` is deprecated and will be removed in a future version. Please use `Model.evaluate`, which supports generators.\n",
      "  test_loss, test_accuracy = model.evaluate_generator(test_data)\n"
     ]
    },
    {
     "name": "stdout",
     "output_type": "stream",
     "text": [
      "0.7217822074890137\n",
      "0.5038168430328369\n"
     ]
    }
   ],
   "source": [
    "test_loss, test_accuracy = model.evaluate_generator(test_data)\n",
    "print(test_accuracy)\n",
    "print(test_loss)"
   ]
  }
 ],
 "metadata": {
  "kernelspec": {
   "display_name": "Python 3.8.10 64-bit",
   "language": "python",
   "name": "python3"
  },
  "language_info": {
   "codemirror_mode": {
    "name": "ipython",
    "version": 3
   },
   "file_extension": ".py",
   "mimetype": "text/x-python",
   "name": "python",
   "nbconvert_exporter": "python",
   "pygments_lexer": "ipython3",
   "version": "3.8.10"
  },
  "orig_nbformat": 4,
  "vscode": {
   "interpreter": {
    "hash": "8971ffca6dba2e9dfc452101f3a78d9f837cdd2dcd8286b5c11cb04831d971cb"
   }
  }
 },
 "nbformat": 4,
 "nbformat_minor": 2
}
