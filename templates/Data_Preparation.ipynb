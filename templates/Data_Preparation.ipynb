{
 "cells": [
  {
   "cell_type": "code",
   "execution_count": 1,
   "metadata": {},
   "outputs": [],
   "source": [
    "import os\n",
    "import shutil\n",
    "import glob\n",
    "from tqdm import tqdm\n",
    "import numpy as np\n",
    "import pandas as pd\n",
    "import matplotlib.pyplot as plt"
   ]
  },
  {
   "cell_type": "code",
   "execution_count": 2,
   "metadata": {},
   "outputs": [
    {
     "data": {
      "text/plain": [
       "' subject ID:\\nxxx\\n\\nimage number:\\nxxx\\n\\ngender:\\n0 - male\\n1 - famale\\n\\nglasses:\\n0 - no\\n1 - yes\\n\\neye state:\\n0 - close\\n1 - open\\n\\nreflections:\\n0 - none\\n1 - low\\n2 - high\\n\\nlighting conditions/image quality:\\n0 - bad\\n1 - good\\n\\nsensor type:\\n01 - RealSense SR300 640x480\\n02 - IDS Imaging, 1280x1024\\n03 - Aptina Imagin 752x480\\n\\nexample:\\ns001_00123_0_0_0_0_0_01.png '"
      ]
     },
     "execution_count": 2,
     "metadata": {},
     "output_type": "execute_result"
    }
   ],
   "source": [
    "''' subject ID:\n",
    "xxx\n",
    "\n",
    "image number:\n",
    "xxx\n",
    "\n",
    "gender:\n",
    "0 - male\n",
    "1 - famale\n",
    "\n",
    "glasses:\n",
    "0 - no\n",
    "1 - yes\n",
    "\n",
    "eye state:\n",
    "0 - close\n",
    "1 - open\n",
    "\n",
    "reflections:\n",
    "0 - none\n",
    "1 - low\n",
    "2 - high\n",
    "\n",
    "lighting conditions/image quality:\n",
    "0 - bad\n",
    "1 - good\n",
    "\n",
    "sensor type:\n",
    "01 - RealSense SR300 640x480\n",
    "02 - IDS Imaging, 1280x1024\n",
    "03 - Aptina Imagin 752x480\n",
    "\n",
    "example:\n",
    "s001_00123_0_0_0_0_0_01.png '''\n"
   ]
  },
  {
   "cell_type": "code",
   "execution_count": 3,
   "metadata": {},
   "outputs": [
    {
     "name": "stderr",
     "output_type": "stream",
     "text": [
      "0it [00:00, ?it/s]\n",
      "100%|██████████| 3242/3242 [00:26<00:00, 124.12it/s]\n",
      "100%|██████████| 1114/1114 [00:09<00:00, 121.21it/s]\n",
      "100%|██████████| 679/679 [00:05<00:00, 125.86it/s]\n",
      "100%|██████████| 1069/1069 [00:08<00:00, 118.93it/s]\n",
      "100%|██████████| 736/736 [00:05<00:00, 124.42it/s]\n",
      "100%|██████████| 1012/1012 [00:07<00:00, 127.24it/s]\n",
      "100%|██████████| 624/624 [00:05<00:00, 118.24it/s]\n",
      "100%|██████████| 832/832 [00:06<00:00, 124.83it/s]\n",
      "100%|██████████| 387/387 [00:03<00:00, 124.19it/s]\n",
      "100%|██████████| 399/399 [00:03<00:00, 123.21it/s]\n",
      "100%|██████████| 1648/1648 [00:13<00:00, 123.52it/s]\n",
      "100%|██████████| 8728/8728 [01:10<00:00, 123.10it/s]\n",
      "100%|██████████| 3605/3605 [00:30<00:00, 118.25it/s]\n",
      "100%|██████████| 8884/8884 [01:14<00:00, 118.61it/s]\n",
      "100%|██████████| 1132/1132 [00:09<00:00, 116.27it/s]\n",
      "100%|██████████| 1889/1889 [00:16<00:00, 117.61it/s]\n",
      "100%|██████████| 1648/1648 [00:13<00:00, 124.78it/s]\n",
      "100%|██████████| 4410/4410 [00:37<00:00, 116.41it/s]\n",
      "100%|██████████| 6175/6175 [00:51<00:00, 119.76it/s]\n",
      "100%|██████████| 704/704 [00:05<00:00, 124.37it/s]\n",
      "100%|██████████| 987/987 [00:08<00:00, 121.02it/s]\n",
      "100%|██████████| 382/382 [00:03<00:00, 110.42it/s]\n",
      "100%|██████████| 522/522 [00:04<00:00, 118.63it/s]\n",
      "100%|██████████| 752/752 [00:06<00:00, 119.24it/s]\n",
      "100%|██████████| 1502/1502 [00:12<00:00, 118.95it/s]\n",
      "100%|██████████| 1246/1246 [00:10<00:00, 120.69it/s]\n",
      "100%|██████████| 665/665 [00:05<00:00, 115.86it/s]\n",
      "100%|██████████| 736/736 [00:06<00:00, 120.11it/s]\n",
      "100%|██████████| 1393/1393 [00:11<00:00, 118.45it/s]\n",
      "100%|██████████| 1384/1384 [00:11<00:00, 119.43it/s]\n",
      "100%|██████████| 1738/1738 [00:14<00:00, 118.49it/s]\n",
      "100%|██████████| 6162/6162 [00:51<00:00, 120.46it/s]\n",
      "100%|██████████| 681/681 [00:05<00:00, 122.94it/s]\n",
      "100%|██████████| 739/739 [00:06<00:00, 122.37it/s]\n",
      "100%|██████████| 642/642 [00:05<00:00, 119.67it/s]\n",
      "100%|██████████| 6193/6193 [00:51<00:00, 119.71it/s]\n",
      "100%|██████████| 10257/10257 [01:26<00:00, 118.65it/s]\n"
     ]
    }
   ],
   "source": [
    "Raw_DIR = r'C:\\\\Capstone_django-version\\\\Drowsiness_Detection_System\\\\templates\\\\mrlEyes_2018_01'\n",
    "for dirpath, dirname, filenames in os.walk(Raw_DIR):\n",
    "  for i in tqdm([f for f in filenames if f.endswith('.png')]):\n",
    "    if i.split('_')[4]=='0':\n",
    "      shutil.copy(src = dirpath + '/' + i, dst = r'C:\\\\Capstone_django-version\\\\Drowsiness_Detection_System\\\\templates\\\\Prepared_Data\\\\Close Eyes')\n",
    "    elif i.split('_')[4]=='1':\n",
    "      shutil.copy(src = dirpath + '/' + i, dst = r'C:\\\\Capstone_django-version\\\\Drowsiness_Detection_System\\\\templates\\\\Prepared_Data\\\\Open Eyes')"
   ]
  }
 ],
 "metadata": {
  "kernelspec": {
   "display_name": "Python 3.8.10 64-bit",
   "language": "python",
   "name": "python3"
  },
  "language_info": {
   "codemirror_mode": {
    "name": "ipython",
    "version": 3
   },
   "file_extension": ".py",
   "mimetype": "text/x-python",
   "name": "python",
   "nbconvert_exporter": "python",
   "pygments_lexer": "ipython3",
   "version": "3.8.10"
  },
  "orig_nbformat": 4,
  "vscode": {
   "interpreter": {
    "hash": "8971ffca6dba2e9dfc452101f3a78d9f837cdd2dcd8286b5c11cb04831d971cb"
   }
  }
 },
 "nbformat": 4,
 "nbformat_minor": 2
}
